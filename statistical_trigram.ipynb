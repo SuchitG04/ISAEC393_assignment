{
 "cells": [
  {
   "cell_type": "code",
   "execution_count": 1,
   "id": "eadba1ca-6d88-43f4-9a3f-8d9c15fb41e1",
   "metadata": {},
   "outputs": [],
   "source": [
    "import numpy as np\n",
    "import torch\n",
    "import matplotlib.pyplot as plt\n",
    "%matplotlib inline"
   ]
  },
  {
   "cell_type": "code",
   "execution_count": 2,
   "id": "323aece6-7071-4e41-b52c-4aec5050246d",
   "metadata": {},
   "outputs": [],
   "source": [
    "words = open(\"./names.txt\", 'r').read().splitlines()"
   ]
  },
  {
   "cell_type": "code",
   "execution_count": 3,
   "id": "5fc4899c-d45a-4739-93f5-54acc987f769",
   "metadata": {},
   "outputs": [
    {
     "data": {
      "text/plain": [
       "['emma', 'olivia', 'ava', 'isabella']"
      ]
     },
     "execution_count": 3,
     "metadata": {},
     "output_type": "execute_result"
    }
   ],
   "source": [
    "words[:4]"
   ]
  },
  {
   "cell_type": "code",
   "execution_count": 4,
   "id": "335056f5-3cb0-4332-ae53-2a15c08372fd",
   "metadata": {},
   "outputs": [],
   "source": [
    "chars = sorted(list(set(''.join(words))))\n",
    "stoi = {s:i+1 for i,s in enumerate(chars)}\n",
    "stoi['.'] = 0\n",
    "itos = {i:s for s,i in stoi.items()}"
   ]
  },
  {
   "cell_type": "code",
   "execution_count": 5,
   "id": "7128fb7a-cbc7-46f7-bb22-8f0413a842d0",
   "metadata": {},
   "outputs": [],
   "source": [
    "two_chars = set()\n",
    "for c1 in chars+[\".\"]:\n",
    "  for c2 in chars+[\".\"]:\n",
    "    two_chars.add(c1+c2)\n",
    "\n",
    "two_chars = sorted(list(two_chars))\n",
    "\n",
    "stoi2 = {s:i for i,s in enumerate(two_chars)}\n",
    "itos2 = {i:s for i,s in enumerate(two_chars)}\n",
    "# stoi2['.e'], itos2[449]"
   ]
  },
  {
   "cell_type": "code",
   "execution_count": 6,
   "id": "120b2338-9bc7-4f77-ab6d-789387612d2e",
   "metadata": {},
   "outputs": [],
   "source": [
    "combs = np.arange(300,30001,300)"
   ]
  },
  {
   "cell_type": "code",
   "execution_count": 7,
   "id": "b8203ba4-cd03-45d2-a093-9ccb133249f2",
   "metadata": {},
   "outputs": [],
   "source": [
    "avg_nll = {}\n",
    "for comb in combs:\n",
    "    N = np.zeros((729, 27), dtype=np.float32)\n",
    "    \n",
    "    # model smoothing\n",
    "    N += 1\n",
    "    \n",
    "    for w in words[:comb]:\n",
    "        chs = [\".\"] + list(w) + [\".\"]\n",
    "        for ch1,ch2,ch3 in zip(chs, chs[1:], chs[2:]):\n",
    "            ix1 = stoi2[ch1+ch2]\n",
    "            ix2 = stoi[ch3]\n",
    "            N[ix1, ix2] += 1\n",
    "\n",
    "    P = N\n",
    "    P /= P.sum(1, keepdims=True)\n",
    "    n = 0\n",
    "    log_likelihood = 0.0\n",
    "    for w in words:\n",
    "        chs = [\".\"] + list(w) + [\".\"]\n",
    "        for ch1,ch2,ch3 in zip(chs, chs[1:], chs[2:]):\n",
    "            ix1 = stoi2[ch1+ch2]\n",
    "            ix2 = stoi[ch3]\n",
    "            prob = P[ix1, ix2]\n",
    "            logprob = np.log(prob)\n",
    "            log_likelihood += logprob\n",
    "            n += 1\n",
    "    \n",
    "    nll = -log_likelihood\n",
    "    # print(f\"{nll=}\")\n",
    "    # print(f\"{nll/n=}\")\n",
    "    avg_nll[comb] = (nll/n)"
   ]
  },
  {
   "cell_type": "code",
   "execution_count": 8,
   "id": "2df975e4-8b82-47b2-b1b3-b5cf0b6eedb1",
   "metadata": {},
   "outputs": [],
   "source": [
    "N = np.zeros((729, 27), dtype=np.float32)\n",
    "    \n",
    "# model smoothing\n",
    "N += 2\n",
    "    \n",
    "for w in words:\n",
    "    chs = [\".\"] + list(w) + [\".\"]\n",
    "    for ch1,ch2,ch3 in zip(chs, chs[1:], chs[2:]):\n",
    "        ix1 = stoi2[ch1+ch2]\n",
    "        ix2 = stoi[ch3]\n",
    "        N[ix1, ix2] += 1\n",
    "\n",
    "P = N\n",
    "P /= P.sum(1, keepdims=True)\n",
    "P=torch.from_numpy(P)"
   ]
  },
  {
   "cell_type": "code",
   "execution_count": 9,
   "id": "50d91ad8-fc03-4442-95da-3d928e4c63d3",
   "metadata": {},
   "outputs": [
    {
     "name": "stdout",
     "output_type": "stream",
     "text": [
      ".luwjdvdianasid.\n",
      ".ulexay.\n",
      ".adin.\n",
      ".vai.\n",
      ".ritoper.\n",
      ".maree.\n",
      ".viameiaurinileniassibduinrwin.\n",
      ".lessiyanaylarte.\n",
      ".unviumthyfodtumj.\n",
      ".nonnslenarsani.\n",
      ".rose.\n",
      ".yae.\n",
      ".rontadaabdinerimouim.\n",
      ".yffnwanaasnhavikhonszxhddgorfmptpavic.\n",
      ".le.\n",
      ".nann.\n",
      ".rhatin.\n",
      ".norri.\n",
      ".ish.\n",
      ".uyfremmel.\n",
      ".memalvupwylapphelliarr.\n",
      ".yen.\n",
      ".nadortan.\n",
      ".laylabel.\n",
      ".hugi.\n",
      ".lavadoni.\n",
      ".zhamirayarath.\n",
      ".bandam.\n",
      ".lexslettkyzsalee.\n",
      ".mallen.\n",
      ".lo.\n",
      ".fabethellianten.\n",
      ".naxtmuralodridydznonialiypvrghaitazrwauriabiyah.\n",
      ".elvavion.\n",
      ".himah.\n",
      ".urik.\n",
      ".mil.\n",
      ".norinoboin.\n",
      ".li.\n",
      ".naiyaxtenn.\n",
      ".scadwfdadric.\n",
      ".remyleessianner.\n",
      ".sadoman.\n",
      ".kyroderihanazzqdab.\n",
      ".vidon.\n",
      ".basstertte.\n",
      ".zeus.\n",
      ".dasialejtchlyndfrewelippgklealilondral.\n",
      ".fadmxjv.\n",
      ".mishamadvdiyavogairardiyaivion.\n"
     ]
    }
   ],
   "source": [
    "g = torch.Generator().manual_seed(2147483647)\n",
    "for _ in range(50):\n",
    "  ix = 1\n",
    "  out = [\".\"]\n",
    "  while True:\n",
    "    if ix != 1:\n",
    "      ix = stoi2[''.join(out[-2:])]\n",
    "    p = P[ix]\n",
    "    ix = torch.multinomial(p, num_samples=1, generator=g).item()\n",
    "    out.append(itos[ix])\n",
    "    if out[-1][-1] == \".\":\n",
    "      break\n",
    "  \n",
    "  print(''.join(out))"
   ]
  },
  {
   "cell_type": "code",
   "execution_count": 10,
   "id": "55c33385-8ef2-476c-9103-dd9bc5c40237",
   "metadata": {},
   "outputs": [
    {
     "data": {
      "text/plain": [
       "Text(0.5, 1.0, 'Decreasing NLL with increasing dataset size')"
      ]
     },
     "execution_count": 10,
     "metadata": {},
     "output_type": "execute_result"
    },
    {
     "data": {
      "image/png": "[encoded data removed]",
      "text/plain": [
       "<Figure size 640x480 with 1 Axes>"
      ]
     },
     "metadata": {},
     "output_type": "display_data"
    }
   ],
   "source": [
    "#Plotting the loss function in matplotlib\n",
    "plt.plot(avg_nll.keys(), avg_nll.values())\n",
    "plt.xlabel(\"Dataset Size\")\n",
    "plt.ylabel(\"Average negative log likelihood\")\n",
    "plt.title(\"Decreasing NLL with increasing dataset size\")"
   ]
  }
 ],
 "metadata": {
  "kernelspec": {
   "display_name": "Python 3 (ipykernel)",
   "language": "python",
   "name": "python3"
  },
  "language_info": {
   "codemirror_mode": {
    "name": "ipython",
    "version": 3
   },
   "file_extension": ".py",
   "mimetype": "text/x-python",
   "name": "python",
   "nbconvert_exporter": "python",
   "pygments_lexer": "ipython3",
   "version": "3.11.2"
  }
 },
 "nbformat": 4,
 "nbformat_minor": 5
}
