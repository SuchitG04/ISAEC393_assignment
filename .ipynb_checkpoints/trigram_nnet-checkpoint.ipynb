{
 "cells": [
  {
   "cell_type": "code",
   "execution_count": 1,
   "id": "53481f7b-28ae-4e93-be6f-045c94797cfa",
   "metadata": {},
   "outputs": [],
   "source": [
    "import torch\n",
    "import matplotlib.pyplot as plt\n",
    "%matplotlib inline\n",
    "\n",
    "from sklearn.model_selection import train_test_split"
   ]
  },
  {
   "cell_type": "markdown",
   "id": "bfa1d472-d15a-42a8-8aa9-eb421f9b5bdd",
   "metadata": {},
   "source": [
    "## Data Prep"
   ]
  },
  {
   "cell_type": "code",
   "execution_count": 2,
   "id": "ef3f5609-6a92-4aa6-884b-387b4779dbc6",
   "metadata": {},
   "outputs": [],
   "source": [
    "words = open(\"./names.txt\", 'r').read().splitlines()"
   ]
  },
  {
   "cell_type": "code",
   "execution_count": 3,
   "id": "cbbedda7-390b-49fd-84ff-7646deaa238e",
   "metadata": {},
   "outputs": [],
   "source": [
    "train_words, temp_words = train_test_split(words, train_size=0.8, random_state=42)\n",
    "dev_words, test_words = train_test_split(temp_words, test_size=0.5, random_state=42)"
   ]
  },
  {
   "cell_type": "code",
   "execution_count": 4,
   "id": "4b845450-ec19-4d3c-935b-e76fb4196c5e",
   "metadata": {},
   "outputs": [
    {
     "data": {
      "text/plain": [
       "(25626, 3203, 3204)"
      ]
     },
     "execution_count": 4,
     "metadata": {},
     "output_type": "execute_result"
    }
   ],
   "source": [
    "len(train_words), len(dev_words), len(test_words)"
   ]
  },
  {
   "cell_type": "markdown",
   "id": "146a9f1d-e9c9-476a-a70e-ce06bdd1f227",
   "metadata": {},
   "source": [
    "## Data Utils"
   ]
  },
  {
   "cell_type": "code",
   "execution_count": 5,
   "id": "ebf21561-211c-4ae1-9a6d-7666c523f76c",
   "metadata": {},
   "outputs": [],
   "source": [
    "chars = sorted(list(set(''.join(train_words))))\n",
    "\n",
    "stoi = {s:i+1 for i,s in enumerate(chars)}\n",
    "stoi['.'] = 0\n",
    "itos = {i:s for s,i in stoi.items()}\n",
    "\n",
    "two_chars = set()\n",
    "for c1 in chars+[\".\"]:\n",
    "    for c2 in chars+[\".\"]:\n",
    "        two_chars.add(c1+c2)\n",
    "\n",
    "two_chars = sorted(list(two_chars))\n",
    "\n",
    "stoi2 = {s:i for i,s in enumerate(two_chars)}\n",
    "itos2 = {i:s for i,s in enumerate(two_chars)}\n",
    "\n",
    "N = torch.zeros((729, 27), dtype=torch.int32)"
   ]
  },
  {
   "cell_type": "markdown",
   "id": "76c177e0-53b3-4129-b643-280dd094a61b",
   "metadata": {},
   "source": [
    "## Trigram NN"
   ]
  },
  {
   "cell_type": "code",
   "execution_count": 25,
   "id": "c759e5e9-7c2d-4e20-92f4-fbe55a4b34a5",
   "metadata": {},
   "outputs": [],
   "source": [
    "xs, ys = [], []\n",
    "for w in train_words:\n",
    "    chs = [\".\"] + list(w) + [\".\"]\n",
    "    for ch1,ch2,ch3 in zip(chs, chs[1:], chs[2:]):\n",
    "        ix1 = stoi2[ch1+ch2]\n",
    "        ix2 = stoi[ch3]\n",
    "        xs.append(ix1)\n",
    "        ys.append(ix2)\n",
    "\n",
    "xs = torch.tensor(xs)\n",
    "ys = torch.tensor(ys)\n",
    "\n",
    "W = torch.empty(0)"
   ]
  },
  {
   "cell_type": "code",
   "execution_count": 28,
   "id": "537f1dcc-ae93-4f36-8b32-03918772c9f9",
   "metadata": {},
   "outputs": [],
   "source": [
    "dev_xs, dev_ys = [], []\n",
    "for w in dev_words:\n",
    "    chs = [\".\"] + list(w) + [\".\"]\n",
    "    for ch1,ch2,ch3 in zip(chs, chs[1:], chs[2:]):\n",
    "        ix1 = stoi2[ch1+ch2]\n",
    "        ix2 = stoi[ch3]\n",
    "        dev_xs.append(ix1)\n",
    "        dev_ys.append(ix2)\n",
    "\n",
    "dev_xs = torch.tensor(dev_xs)\n",
    "dev_ys = torch.tensor(dev_ys)"
   ]
  },
  {
   "cell_type": "code",
   "execution_count": 29,
   "id": "b31a2ad4-9be1-4302-ab65-544d827b64aa",
   "metadata": {},
   "outputs": [],
   "source": [
    "test_xs, test_ys = [], []\n",
    "for w in test_words:\n",
    "    chs = [\".\"] + list(w) + [\".\"]\n",
    "    for ch1,ch2,ch3 in zip(chs, chs[1:], chs[2:]):\n",
    "        ix1 = stoi2[ch1+ch2]\n",
    "        ix2 = stoi[ch3]\n",
    "        test_xs.append(ix1)\n",
    "        test_ys.append(ix2)\n",
    "\n",
    "test_xs = torch.tensor(test_xs)\n",
    "test_ys = torch.tensor(test_ys)"
   ]
  },
  {
   "cell_type": "markdown",
   "id": "6e9057c3-024a-4a6f-a4cb-2a83ddf0f8fe",
   "metadata": {},
   "source": [
    "### Training"
   ]
  },
  {
   "cell_type": "code",
   "execution_count": 30,
   "id": "541d5480-1d3c-461f-b9a4-157a59d5d9db",
   "metadata": {},
   "outputs": [],
   "source": [
    "def get_epoch_loss(weights, word_set):\n",
    "    if (word_set == \"dev_words\"):\n",
    "        xs = torch.tensor(dev_xs)\n",
    "        ys = torch.tensor(dev_ys)\n",
    "    else:\n",
    "        xs = torch.tensor(test_xs)\n",
    "        ys = torch.tensor(test_ys)\n",
    "\n",
    "    with torch.no_grad():\n",
    "        logits = weights[xs]\n",
    "        counts = logits.exp()\n",
    "        probs = counts / counts.sum(1, keepdim=True)\n",
    "    \n",
    "        nll = -probs[torch.arange(xs.nelement()), ys].log().mean()\n",
    "\n",
    "    return nll.item()"
   ]
  },
  {
   "cell_type": "code",
   "execution_count": 31,
   "id": "816f9f74-0603-4d7c-a722-260911080534",
   "metadata": {},
   "outputs": [],
   "source": [
    "def train(reg_factor=0.0550, epochs=150):\n",
    "    global W\n",
    "    g = torch.Generator().manual_seed(2147483647)\n",
    "    W = torch.randn((729, 27), generator=g, requires_grad=True)\n",
    "\n",
    "    train_losses = {}\n",
    "    dev_losses = {}\n",
    "    test_losses = {}\n",
    "\n",
    "    for i in range(epochs):\n",
    "        # forward pass\n",
    "        logits = W[xs_t]\n",
    "        counts = logits.exp()\n",
    "        probs = counts / counts.sum(1, keepdim=True)\n",
    "        loss = -probs[torch.arange(xs_t.nelement()), ys_t].log().mean() + reg_factor*(W**2).mean()\n",
    "    \n",
    "        # print(f\"Epoch: {i}; Loss: {loss.item()}\")\n",
    "        train_losses[i] = loss.item()\n",
    "        dev_losses[i] = get_epoch_loss(W, \"dev_words\")\n",
    "        test_losses[i] = get_epoch_loss(W, \"test_words\")\n",
    "    \n",
    "      # backward pass\n",
    "        W.grad = None\n",
    "        loss.backward()\n",
    "        with torch.no_grad():\n",
    "            W.data += -75 * W.grad\n",
    "\n",
    "    return (train_losses, dev_losses, test_losses)"
   ]
  },
  {
   "cell_type": "code",
   "execution_count": null,
   "id": "d0796140-1a86-4c76-bfc3-9a1c290e75de",
   "metadata": {
    "scrolled": true
   },
   "outputs": [],
   "source": [
    "train_losses, dev_losses, test_losses = train()"
   ]
  },
  {
   "cell_type": "code",
   "execution_count": 35,
   "id": "9be9bd4f-f4f7-4e89-9efc-855a189f66a2",
   "metadata": {
    "scrolled": true
   },
   "outputs": [
    {
     "data": {
      "text/plain": [
       "{0: 3.7276315689086914,\n",
       " 1: 3.6150705814361572,\n",
       " 2: 3.5131702423095703,\n",
       " 3: 3.421945333480835,\n",
       " 4: 3.341242790222168,\n",
       " 5: 3.270423173904419,\n",
       " 6: 3.2083723545074463,\n",
       " 7: 3.1537132263183594,\n",
       " 8: 3.1051032543182373,\n",
       " 9: 3.061434507369995,\n",
       " 10: 3.0218727588653564,\n",
       " 11: 2.985797643661499,\n",
       " 12: 2.952739715576172,\n",
       " 13: 2.922330856323242,\n",
       " 14: 2.8942694664001465,\n",
       " 15: 2.86830472946167,\n",
       " 16: 2.8442225456237793,\n",
       " 17: 2.821835994720459,\n",
       " 18: 2.800981044769287,\n",
       " 19: 2.781510353088379,\n",
       " 20: 2.7632908821105957,\n",
       " 21: 2.7462031841278076,\n",
       " 22: 2.730140209197998,\n",
       " 23: 2.7150049209594727,\n",
       " 24: 2.7007110118865967,\n",
       " 25: 2.6871817111968994,\n",
       " 26: 2.674349784851074,\n",
       " 27: 2.66215443611145,\n",
       " 28: 2.650542974472046,\n",
       " 29: 2.6394689083099365,\n",
       " 30: 2.628890037536621,\n",
       " 31: 2.618769645690918,\n",
       " 32: 2.609074831008911,\n",
       " 33: 2.5997753143310547,\n",
       " 34: 2.5908448696136475,\n",
       " 35: 2.5822594165802,\n",
       " 36: 2.573997735977173,\n",
       " 37: 2.5660393238067627,\n",
       " 38: 2.558366298675537,\n",
       " 39: 2.5509626865386963,\n",
       " 40: 2.5438132286071777,\n",
       " 41: 2.5369036197662354,\n",
       " 42: 2.530221462249756,\n",
       " 43: 2.5237553119659424,\n",
       " 44: 2.517493724822998,\n",
       " 45: 2.5114269256591797,\n",
       " 46: 2.505545139312744,\n",
       " 47: 2.4998409748077393,\n",
       " 48: 2.494304656982422,\n",
       " 49: 2.488929510116577,\n",
       " 50: 2.483708381652832,\n",
       " 51: 2.4786343574523926,\n",
       " 52: 2.473701238632202,\n",
       " 53: 2.4689035415649414,\n",
       " 54: 2.464235305786133,\n",
       " 55: 2.459691047668457,\n",
       " 56: 2.455266237258911,\n",
       " 57: 2.450956106185913,\n",
       " 58: 2.446756601333618,\n",
       " 59: 2.4426629543304443,\n",
       " 60: 2.438671588897705,\n",
       " 61: 2.4347784519195557,\n",
       " 62: 2.4309799671173096,\n",
       " 63: 2.4272727966308594,\n",
       " 64: 2.423654079437256,\n",
       " 65: 2.4201200008392334,\n",
       " 66: 2.416668176651001,\n",
       " 67: 2.4132955074310303,\n",
       " 68: 2.409999370574951,\n",
       " 69: 2.4067776203155518,\n",
       " 70: 2.4036271572113037,\n",
       " 71: 2.400545835494995,\n",
       " 72: 2.397531509399414,\n",
       " 73: 2.3945822715759277,\n",
       " 74: 2.391695737838745,\n",
       " 75: 2.3888702392578125,\n",
       " 76: 2.386103391647339,\n",
       " 77: 2.3833940029144287,\n",
       " 78: 2.38073992729187,\n",
       " 79: 2.3781392574310303,\n",
       " 80: 2.3755910396575928,\n",
       " 81: 2.373093605041504,\n",
       " 82: 2.370645046234131,\n",
       " 83: 2.3682444095611572,\n",
       " 84: 2.36588978767395,\n",
       " 85: 2.3635804653167725,\n",
       " 86: 2.361314535140991,\n",
       " 87: 2.359091281890869,\n",
       " 88: 2.3569090366363525,\n",
       " 89: 2.354767084121704,\n",
       " 90: 2.3526642322540283,\n",
       " 91: 2.3505990505218506,\n",
       " 92: 2.3485710620880127,\n",
       " 93: 2.34657883644104,\n",
       " 94: 2.3446216583251953,\n",
       " 95: 2.342697858810425,\n",
       " 96: 2.3408076763153076,\n",
       " 97: 2.338949680328369,\n",
       " 98: 2.337123155593872,\n",
       " 99: 2.335326910018921,\n",
       " 100: 2.3335602283477783,\n",
       " 101: 2.3318228721618652,\n",
       " 102: 2.330113649368286,\n",
       " 103: 2.328432083129883,\n",
       " 104: 2.3267769813537598,\n",
       " 105: 2.325148344039917,\n",
       " 106: 2.323545217514038,\n",
       " 107: 2.321967124938965,\n",
       " 108: 2.320413112640381,\n",
       " 109: 2.318882703781128,\n",
       " 110: 2.3173751831054688,\n",
       " 111: 2.3158907890319824,\n",
       " 112: 2.3144280910491943,\n",
       " 113: 2.3129870891571045,\n",
       " 114: 2.3115668296813965,\n",
       " 115: 2.3101673126220703,\n",
       " 116: 2.3087878227233887,\n",
       " 117: 2.3074281215667725,\n",
       " 118: 2.3060872554779053,\n",
       " 119: 2.304765462875366,\n",
       " 120: 2.303461790084839,\n",
       " 121: 2.3021764755249023,\n",
       " 122: 2.300908088684082,\n",
       " 123: 2.2996573448181152,\n",
       " 124: 2.2984232902526855,\n",
       " 125: 2.2972052097320557,\n",
       " 126: 2.296003818511963,\n",
       " 127: 2.294818162918091,\n",
       " 128: 2.2936477661132812,\n",
       " 129: 2.292492628097534,\n",
       " 130: 2.2913522720336914,\n",
       " 131: 2.290226697921753,\n",
       " 132: 2.2891149520874023,\n",
       " 133: 2.288017749786377,\n",
       " 134: 2.2869341373443604,\n",
       " 135: 2.2858633995056152,\n",
       " 136: 2.284806251525879,\n",
       " 137: 2.283762216567993,\n",
       " 138: 2.2827305793762207,\n",
       " 139: 2.2817115783691406,\n",
       " 140: 2.280704975128174,\n",
       " 141: 2.279710054397583,\n",
       " 142: 2.2787270545959473,\n",
       " 143: 2.2777557373046875,\n",
       " 144: 2.2767958641052246,\n",
       " 145: 2.2758469581604004,\n",
       " 146: 2.274909019470215,\n",
       " 147: 2.273982048034668,\n",
       " 148: 2.2730658054351807,\n",
       " 149: 2.2721593379974365}"
      ]
     },
     "execution_count": 35,
     "metadata": {},
     "output_type": "execute_result"
    }
   ],
   "source": [
    "test_losses"
   ]
  },
  {
   "cell_type": "code",
   "execution_count": 43,
   "id": "566fa871-6361-4beb-a4f4-be6be98ae945",
   "metadata": {},
   "outputs": [
    {
     "data": {
      "image/png": "[encoded data removed]",
      "text/plain": [
       "<Figure size 640x480 with 1 Axes>"
      ]
     },
     "metadata": {},
     "output_type": "display_data"
    }
   ],
   "source": [
    "plt.plot(train_losses.keys(), train_losses.values(), 'b-', label=\"Train loss\")\n",
    "plt.plot(dev_losses.keys(), dev_losses.values(), 'g--', label=\"Validation loss\")\n",
    "plt.plot(test_losses.keys(), test_losses.values(), 'r:', label=\"Test loss\")\n",
    "plt.xlabel(\"No. of Epochs\")\n",
    "plt.ylabel(\"Average Negative Loss Likelihood\")\n",
    "plt.legend()\n",
    "plt.title(\"Decrease in loss with training\")\n",
    "plt.grid()\n",
    "plt.show()"
   ]
  },
  {
   "cell_type": "markdown",
   "id": "b82bb7bb-838c-40a8-9c77-16323fbf1f3a",
   "metadata": {},
   "source": [
    "### Evaluation"
   ]
  },
  {
   "cell_type": "code",
   "execution_count": 11,
   "id": "74538923-23cc-4d68-b0f9-f7213c6efc57",
   "metadata": {},
   "outputs": [],
   "source": [
    "def get_loss(word_set):\n",
    "    xs_t, ys_t = [], []\n",
    "    for w in word_set:\n",
    "        chs = [\".\"] + list(w) + [\".\"]\n",
    "        for ch1,ch2,ch3 in zip(chs, chs[1:], chs[2:]):\n",
    "            ix1 = stoi2[ch1+ch2]\n",
    "            ix2 = stoi[ch3]\n",
    "            xs_t.append(ix1)\n",
    "            ys_t.append(ix2)\n",
    "    \n",
    "    xs_t = torch.tensor(xs_t)\n",
    "    ys_t = torch.tensor(ys_t)\n",
    "\n",
    "    with torch.no_grad():\n",
    "        logits = W[xs_t]\n",
    "        counts = logits.exp()\n",
    "        probs = counts / counts.sum(1, keepdim=True)\n",
    "    \n",
    "        nll = -probs[torch.arange(xs_t.nelement()), ys_t].log().mean()\n",
    "\n",
    "    return nll.item()"
   ]
  },
  {
   "cell_type": "code",
   "execution_count": 12,
   "id": "730ce922-8de2-4efa-804f-d1ee773783fc",
   "metadata": {},
   "outputs": [
    {
     "name": "stdout",
     "output_type": "stream",
     "text": [
      "--- Train split loss ---\n",
      "Avg NLL: 2.2437\n"
     ]
    }
   ],
   "source": [
    "train_nll = get_loss(train_words)\n",
    "print(\"--- Train split loss ---\")\n",
    "print(f\"Avg NLL: {train_nll:.4f}\")"
   ]
  },
  {
   "cell_type": "code",
   "execution_count": 13,
   "id": "87000c41-6c5d-4f65-b6cf-2c0265442227",
   "metadata": {},
   "outputs": [
    {
     "name": "stdout",
     "output_type": "stream",
     "text": [
      "--- Dev split loss ---\n",
      "Avg NLL: 2.2488\n"
     ]
    }
   ],
   "source": [
    "dev_nll = get_loss(dev_words)\n",
    "print(\"--- Dev split loss ---\")\n",
    "print(f\"Avg NLL: {dev_nll:.4f}\")"
   ]
  },
  {
   "cell_type": "code",
   "execution_count": 14,
   "id": "4bec197a-d22c-4089-b861-7353d2237478",
   "metadata": {},
   "outputs": [
    {
     "name": "stdout",
     "output_type": "stream",
     "text": [
      "--- Test split loss ---\n",
      "Avg NLL: 2.2713\n"
     ]
    }
   ],
   "source": [
    "test_nll = get_loss(test_words)\n",
    "print(\"--- Test split loss ---\")\n",
    "print(f\"Avg NLL: {test_nll:.4f}\")"
   ]
  },
  {
   "cell_type": "code",
   "execution_count": 62,
   "id": "84e0e783-569d-40c8-88d2-cc4aa9750926",
   "metadata": {},
   "outputs": [
    {
     "data": {
      "image/png": "[encoded data removed]",
      "text/plain": [
       "<Figure size 640x480 with 1 Axes>"
      ]
     },
     "metadata": {},
     "output_type": "display_data"
    }
   ],
   "source": [
    "split_losses = [train_nll, dev_nll, test_nll]\n",
    "loss_names = [\"Train loss\", \"Validation loss\", \"Test loss\"]\n",
    "\n",
    "plt.bar(loss_names, split_losses, color=\"skyblue\")\n",
    "plt.ylim(min(split_losses) - 0.01, max(split_losses)+0.01)\n",
    "\n",
    "plt.ylabel(\"Loss values\")\n",
    "plt.title(\"Losses of the different splits\")\n",
    "plt.show()"
   ]
  },
  {
   "cell_type": "code",
   "execution_count": null,
   "id": "d24a9e89-fd6b-49a1-b386-1d07b0e41f86",
   "metadata": {},
   "outputs": [],
   "source": []
  }
 ],
 "metadata": {
  "kernelspec": {
   "display_name": "Python 3 (ipykernel)",
   "language": "python",
   "name": "python3"
  },
  "language_info": {
   "codemirror_mode": {
    "name": "ipython",
    "version": 3
   },
   "file_extension": ".py",
   "mimetype": "text/x-python",
   "name": "python",
   "nbconvert_exporter": "python",
   "pygments_lexer": "ipython3",
   "version": "3.11.7"
  }
 },
 "nbformat": 4,
 "nbformat_minor": 5
}
