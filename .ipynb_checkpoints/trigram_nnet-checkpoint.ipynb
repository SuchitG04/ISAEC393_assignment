{
 "cells": [
  {
   "cell_type": "code",
   "execution_count": 1,
   "id": "53481f7b-28ae-4e93-be6f-045c94797cfa",
   "metadata": {},
   "outputs": [],
   "source": [
    "import torch\n",
    "import matplotlib.pyplot as plt\n",
    "%matplotlib inline\n",
    "\n",
    "from sklearn.model_selection import train_test_split"
   ]
  },
  {
   "cell_type": "markdown",
   "id": "bfa1d472-d15a-42a8-8aa9-eb421f9b5bdd",
   "metadata": {},
   "source": [
    "## Data Prep"
   ]
  },
  {
   "cell_type": "code",
   "execution_count": 2,
   "id": "ef3f5609-6a92-4aa6-884b-387b4779dbc6",
   "metadata": {},
   "outputs": [],
   "source": [
    "words = open(\"./names.txt\", 'r').read().splitlines()"
   ]
  },
  {
   "cell_type": "code",
   "execution_count": 3,
   "id": "cbbedda7-390b-49fd-84ff-7646deaa238e",
   "metadata": {},
   "outputs": [],
   "source": [
    "train_words, temp_words = train_test_split(words, train_size=0.8, random_state=42)\n",
    "dev_words, test_words = train_test_split(temp_words, test_size=0.5, random_state=42)"
   ]
  },
  {
   "cell_type": "code",
   "execution_count": 4,
   "id": "4b845450-ec19-4d3c-935b-e76fb4196c5e",
   "metadata": {},
   "outputs": [
    {
     "data": {
      "text/plain": [
       "(25626, 3203, 3204)"
      ]
     },
     "execution_count": 4,
     "metadata": {},
     "output_type": "execute_result"
    }
   ],
   "source": [
    "len(train_words), len(dev_words), len(test_words)"
   ]
  },
  {
   "cell_type": "markdown",
   "id": "146a9f1d-e9c9-476a-a70e-ce06bdd1f227",
   "metadata": {},
   "source": [
    "## Data Utils"
   ]
  },
  {
   "cell_type": "code",
   "execution_count": 5,
   "id": "ebf21561-211c-4ae1-9a6d-7666c523f76c",
   "metadata": {},
   "outputs": [],
   "source": [
    "chars = sorted(list(set(''.join(train_words))))\n",
    "\n",
    "stoi = {s:i+1 for i,s in enumerate(chars)}\n",
    "stoi['.'] = 0\n",
    "itos = {i:s for s,i in stoi.items()}\n",
    "\n",
    "two_chars = set()\n",
    "for c1 in chars+[\".\"]:\n",
    "    for c2 in chars+[\".\"]:\n",
    "        two_chars.add(c1+c2)\n",
    "\n",
    "two_chars = sorted(list(two_chars))\n",
    "\n",
    "stoi2 = {s:i for i,s in enumerate(two_chars)}\n",
    "itos2 = {i:s for i,s in enumerate(two_chars)}\n",
    "\n",
    "N = torch.zeros((729, 27), dtype=torch.int32)"
   ]
  },
  {
   "cell_type": "markdown",
   "id": "76c177e0-53b3-4129-b643-280dd094a61b",
   "metadata": {},
   "source": [
    "## Trigram NN"
   ]
  },
  {
   "cell_type": "code",
   "execution_count": 6,
   "id": "c759e5e9-7c2d-4e20-92f4-fbe55a4b34a5",
   "metadata": {},
   "outputs": [],
   "source": [
    "xs_t, ys_t = [], []\n",
    "for w in train_words:\n",
    "    chs = [\".\"] + list(w) + [\".\"]\n",
    "    for ch1,ch2,ch3 in zip(chs, chs[1:], chs[2:]):\n",
    "        ix1 = stoi2[ch1+ch2]\n",
    "        ix2 = stoi[ch3]\n",
    "        xs_t.append(ix1)\n",
    "        ys_t.append(ix2)\n",
    "\n",
    "xs_t = torch.tensor(xs_t)\n",
    "ys_t = torch.tensor(ys_t)\n",
    "\n",
    "W = torch.empty(0)"
   ]
  },
  {
   "cell_type": "markdown",
   "id": "6e9057c3-024a-4a6f-a4cb-2a83ddf0f8fe",
   "metadata": {},
   "source": [
    "### Training"
   ]
  },
  {
   "cell_type": "code",
   "execution_count": 22,
   "id": "541d5480-1d3c-461f-b9a4-157a59d5d9db",
   "metadata": {},
   "outputs": [],
   "source": [
    "def get_epoch_loss(weights, word_set):\n",
    "    xs_t, ys_t = [], []\n",
    "    for w in word_set:\n",
    "        chs = [\".\"] + list(w) + [\".\"]\n",
    "        for ch1,ch2,ch3 in zip(chs, chs[1:], chs[2:]):\n",
    "            ix1 = stoi2[ch1+ch2]\n",
    "            ix2 = stoi[ch3]\n",
    "            xs_t.append(ix1)\n",
    "            ys_t.append(ix2)\n",
    "    \n",
    "    xs_t = torch.tensor(xs_t)\n",
    "    ys_t = torch.tensor(ys_t)\n",
    "\n",
    "    with torch.no_grad():\n",
    "        logits = weights[xs_t]\n",
    "        counts = logits.exp()\n",
    "        probs = counts / counts.sum(1, keepdim=True)\n",
    "    \n",
    "        nll = -probs[torch.arange(xs_t.nelement()), ys_t].log().mean()\n",
    "\n",
    "    return nll.item()"
   ]
  },
  {
   "cell_type": "code",
   "execution_count": 7,
   "id": "816f9f74-0603-4d7c-a722-260911080534",
   "metadata": {},
   "outputs": [],
   "source": [
    "def train(reg_factor=0.0550, epochs=150):\n",
    "    global W\n",
    "    g = torch.Generator().manual_seed(2147483647)\n",
    "    W = torch.randn((729, 27), generator=g, requires_grad=True)\n",
    "\n",
    "    train_losses = {}\n",
    "    dev_losses = {}\n",
    "    test_losses = {}\n",
    "\n",
    "    for i in range(epochs):\n",
    "        # forward pass\n",
    "        logits = W[xs_t]\n",
    "        counts = logits.exp()\n",
    "        probs = counts / counts.sum(1, keepdim=True)\n",
    "        loss = -probs[torch.arange(xs_t.nelement()), ys_t].log().mean() + reg_factor*(W**2).mean()\n",
    "    \n",
    "        # print(f\"Epoch: {i}; Loss: {loss.item()}\")\n",
    "        train_losses[i] = loss.item()\n",
    "        dev_losses[i] = get_epoch_loss(W, dev_words)\n",
    "        test_losses[i] = get_epoch_loss(W, test_words)\n",
    "    \n",
    "      # backward pass\n",
    "        W.grad = None\n",
    "        loss.backward()\n",
    "        with torch.no_grad():\n",
    "            W.data += -75 * W.grad\n",
    "\n",
    "    return (train_losses, dev_losses, test_losses)"
   ]
  },
  {
   "cell_type": "code",
   "execution_count": 8,
   "id": "d0796140-1a86-4c76-bfc3-9a1c290e75de",
   "metadata": {
    "scrolled": true
   },
   "outputs": [],
   "source": [
    "losses = train()"
   ]
  },
  {
   "cell_type": "code",
   "execution_count": 9,
   "id": "9be9bd4f-f4f7-4e89-9efc-855a189f66a2",
   "metadata": {
    "scrolled": true
   },
   "outputs": [
    {
     "data": {
      "text/plain": [
       "{0: 3.7788569927215576,\n",
       " 1: 3.6658482551574707,\n",
       " 2: 3.5636610984802246,\n",
       " 3: 3.4722471237182617,\n",
       " 4: 3.391392707824707,\n",
       " 5: 3.3204009532928467,\n",
       " 6: 3.25812029838562,\n",
       " 7: 3.203167676925659,\n",
       " 8: 3.154209852218628,\n",
       " 9: 3.1101577281951904,\n",
       " 10: 3.070189952850342,\n",
       " 11: 3.0337002277374268,\n",
       " 12: 3.000225782394409,\n",
       " 13: 2.96940279006958,\n",
       " 14: 2.940934896469116,\n",
       " 15: 2.9145727157592773,\n",
       " 16: 2.890103340148926,\n",
       " 17: 2.8673412799835205,\n",
       " 18: 2.8461217880249023,\n",
       " 19: 2.8262977600097656,\n",
       " 20: 2.8077375888824463,\n",
       " 21: 2.790320634841919,\n",
       " 22: 2.7739388942718506,\n",
       " 23: 2.7584950923919678,\n",
       " 24: 2.7439026832580566,\n",
       " 25: 2.7300844192504883,\n",
       " 26: 2.7169713973999023,\n",
       " 27: 2.704502582550049,\n",
       " 28: 2.692624807357788,\n",
       " 29: 2.681290626525879,\n",
       " 30: 2.670457363128662,\n",
       " 31: 2.6600875854492188,\n",
       " 32: 2.6501476764678955,\n",
       " 33: 2.6406078338623047,\n",
       " 34: 2.6314408779144287,\n",
       " 35: 2.6226227283477783,\n",
       " 36: 2.614131212234497,\n",
       " 37: 2.6059458255767822,\n",
       " 38: 2.5980496406555176,\n",
       " 39: 2.5904247760772705,\n",
       " 40: 2.583056926727295,\n",
       " 41: 2.5759315490722656,\n",
       " 42: 2.569035768508911,\n",
       " 43: 2.5623583793640137,\n",
       " 44: 2.5558879375457764,\n",
       " 45: 2.549614191055298,\n",
       " 46: 2.5435280799865723,\n",
       " 47: 2.537620782852173,\n",
       " 48: 2.531883716583252,\n",
       " 49: 2.5263102054595947,\n",
       " 50: 2.520892381668091,\n",
       " 51: 2.5156233310699463,\n",
       " 52: 2.5104973316192627,\n",
       " 53: 2.5055086612701416,\n",
       " 54: 2.5006511211395264,\n",
       " 55: 2.495919942855835,\n",
       " 56: 2.491309642791748,\n",
       " 57: 2.486816167831421,\n",
       " 58: 2.4824347496032715,\n",
       " 59: 2.478161334991455,\n",
       " 60: 2.473991632461548,\n",
       " 61: 2.4699220657348633,\n",
       " 62: 2.4659488201141357,\n",
       " 63: 2.462069272994995,\n",
       " 64: 2.4582793712615967,\n",
       " 65: 2.454576015472412,\n",
       " 66: 2.4509568214416504,\n",
       " 67: 2.4474189281463623,\n",
       " 68: 2.4439587593078613,\n",
       " 69: 2.4405746459960938,\n",
       " 70: 2.4372634887695312,\n",
       " 71: 2.4340240955352783,\n",
       " 72: 2.4308528900146484,\n",
       " 73: 2.427748680114746,\n",
       " 74: 2.424708604812622,\n",
       " 75: 2.421731472015381,\n",
       " 76: 2.4188148975372314,\n",
       " 77: 2.415957450866699,\n",
       " 78: 2.413156747817993,\n",
       " 79: 2.410411834716797,\n",
       " 80: 2.4077208042144775,\n",
       " 81: 2.4050815105438232,\n",
       " 82: 2.402493953704834,\n",
       " 83: 2.3999550342559814,\n",
       " 84: 2.3974642753601074,\n",
       " 85: 2.3950202465057373,\n",
       " 86: 2.3926215171813965,\n",
       " 87: 2.3902668952941895,\n",
       " 88: 2.3879551887512207,\n",
       " 89: 2.3856852054595947,\n",
       " 90: 2.383455991744995,\n",
       " 91: 2.3812661170959473,\n",
       " 92: 2.379114866256714,\n",
       " 93: 2.3770010471343994,\n",
       " 94: 2.3749234676361084,\n",
       " 95: 2.3728816509246826,\n",
       " 96: 2.3708741664886475,\n",
       " 97: 2.3689005374908447,\n",
       " 98: 2.366959810256958,\n",
       " 99: 2.3650505542755127,\n",
       " 100: 2.363173246383667,\n",
       " 101: 2.361326217651367,\n",
       " 102: 2.359508752822876,\n",
       " 103: 2.357719898223877,\n",
       " 104: 2.35595965385437,\n",
       " 105: 2.354226589202881,\n",
       " 106: 2.352520704269409,\n",
       " 107: 2.3508408069610596,\n",
       " 108: 2.349186658859253,\n",
       " 109: 2.347557544708252,\n",
       " 110: 2.345952272415161,\n",
       " 111: 2.3443713188171387,\n",
       " 112: 2.342813491821289,\n",
       " 113: 2.341278553009033,\n",
       " 114: 2.339765787124634,\n",
       " 115: 2.3382744789123535,\n",
       " 116: 2.3368046283721924,\n",
       " 117: 2.335355281829834,\n",
       " 118: 2.3339266777038574,\n",
       " 119: 2.3325178623199463,\n",
       " 120: 2.331127643585205,\n",
       " 121: 2.3297572135925293,\n",
       " 122: 2.3284049034118652,\n",
       " 123: 2.327071189880371,\n",
       " 124: 2.3257553577423096,\n",
       " 125: 2.3244564533233643,\n",
       " 126: 2.3231749534606934,\n",
       " 127: 2.3219101428985596,\n",
       " 128: 2.320662260055542,\n",
       " 129: 2.319429874420166,\n",
       " 130: 2.3182132244110107,\n",
       " 131: 2.317011833190918,\n",
       " 132: 2.315826416015625,\n",
       " 133: 2.314655065536499,\n",
       " 134: 2.3134987354278564,\n",
       " 135: 2.3123559951782227,\n",
       " 136: 2.311228036880493,\n",
       " 137: 2.3101134300231934,\n",
       " 138: 2.3090121746063232,\n",
       " 139: 2.30792498588562,\n",
       " 140: 2.306849956512451,\n",
       " 141: 2.3057878017425537,\n",
       " 142: 2.3047385215759277,\n",
       " 143: 2.3037009239196777,\n",
       " 144: 2.302676200866699,\n",
       " 145: 2.3016631603240967,\n",
       " 146: 2.300661087036133,\n",
       " 147: 2.299671173095703,\n",
       " 148: 2.2986927032470703,\n",
       " 149: 2.297724962234497}"
      ]
     },
     "execution_count": 9,
     "metadata": {},
     "output_type": "execute_result"
    }
   ],
   "source": [
    "losses"
   ]
  },
  {
   "cell_type": "code",
   "execution_count": 10,
   "id": "566fa871-6361-4beb-a4f4-be6be98ae945",
   "metadata": {},
   "outputs": [
    {
     "data": {
      "image/png": "[encoded data removed]",
      "text/plain": [
       "<Figure size 640x480 with 1 Axes>"
      ]
     },
     "metadata": {},
     "output_type": "display_data"
    }
   ],
   "source": [
    "plt.plot(losses.keys(), losses.values(), 'g-')\n",
    "plt.xlabel(\"No. of Epochs\")\n",
    "plt.ylabel(\"Average Negative Loss Likelihood\")\n",
    "plt.title(\"Decrease in loss with training\")\n",
    "plt.show()"
   ]
  },
  {
   "cell_type": "markdown",
   "id": "b82bb7bb-838c-40a8-9c77-16323fbf1f3a",
   "metadata": {},
   "source": [
    "### Evaluation"
   ]
  },
  {
   "cell_type": "code",
   "execution_count": 11,
   "id": "74538923-23cc-4d68-b0f9-f7213c6efc57",
   "metadata": {},
   "outputs": [],
   "source": [
    "def get_loss(word_set):\n",
    "    xs_t, ys_t = [], []\n",
    "    for w in word_set:\n",
    "        chs = [\".\"] + list(w) + [\".\"]\n",
    "        for ch1,ch2,ch3 in zip(chs, chs[1:], chs[2:]):\n",
    "            ix1 = stoi2[ch1+ch2]\n",
    "            ix2 = stoi[ch3]\n",
    "            xs_t.append(ix1)\n",
    "            ys_t.append(ix2)\n",
    "    \n",
    "    xs_t = torch.tensor(xs_t)\n",
    "    ys_t = torch.tensor(ys_t)\n",
    "\n",
    "    with torch.no_grad():\n",
    "        logits = W[xs_t]\n",
    "        counts = logits.exp()\n",
    "        probs = counts / counts.sum(1, keepdim=True)\n",
    "    \n",
    "        nll = -probs[torch.arange(xs_t.nelement()), ys_t].log().mean()\n",
    "\n",
    "    return nll.item()"
   ]
  },
  {
   "cell_type": "code",
   "execution_count": 12,
   "id": "730ce922-8de2-4efa-804f-d1ee773783fc",
   "metadata": {},
   "outputs": [
    {
     "name": "stdout",
     "output_type": "stream",
     "text": [
      "--- Train split loss ---\n",
      "Avg NLL: 2.2437\n"
     ]
    }
   ],
   "source": [
    "train_nll = get_loss(train_words)\n",
    "print(\"--- Train split loss ---\")\n",
    "print(f\"Avg NLL: {train_nll:.4f}\")"
   ]
  },
  {
   "cell_type": "code",
   "execution_count": 13,
   "id": "87000c41-6c5d-4f65-b6cf-2c0265442227",
   "metadata": {},
   "outputs": [
    {
     "name": "stdout",
     "output_type": "stream",
     "text": [
      "--- Dev split loss ---\n",
      "Avg NLL: 2.2488\n"
     ]
    }
   ],
   "source": [
    "dev_nll = get_loss(dev_words)\n",
    "print(\"--- Dev split loss ---\")\n",
    "print(f\"Avg NLL: {dev_nll:.4f}\")"
   ]
  },
  {
   "cell_type": "code",
   "execution_count": 14,
   "id": "4bec197a-d22c-4089-b861-7353d2237478",
   "metadata": {},
   "outputs": [
    {
     "name": "stdout",
     "output_type": "stream",
     "text": [
      "--- Test split loss ---\n",
      "Avg NLL: 2.2713\n"
     ]
    }
   ],
   "source": [
    "test_nll = get_loss(test_words)\n",
    "print(\"--- Test split loss ---\")\n",
    "print(f\"Avg NLL: {test_nll:.4f}\")"
   ]
  },
  {
   "cell_type": "code",
   "execution_count": 19,
   "id": "84e0e783-569d-40c8-88d2-cc4aa9750926",
   "metadata": {},
   "outputs": [
    {
     "data": {
      "text/plain": [
       "<BarContainer object of 3 artists>"
      ]
     },
     "execution_count": 19,
     "metadata": {},
     "output_type": "execute_result"
    },
    {
     "data": {
      "image/png": "[encoded data removed]",
      "text/plain": [
       "<Figure size 640x480 with 1 Axes>"
      ]
     },
     "metadata": {},
     "output_type": "display_data"
    }
   ],
   "source": [
    "split_losses = [train_nll, dev_nll, test_nll]\n",
    "loss_names = [\"Train NLL\", \"Dev NLL\", \"Test NLL\"]\n",
    "plt.bar(loss_names, split_losses)"
   ]
  },
  {
   "cell_type": "code",
   "execution_count": null,
   "id": "42911411-a8a8-4950-8c20-c2ef1c5785bb",
   "metadata": {},
   "outputs": [],
   "source": []
  }
 ],
 "metadata": {
  "kernelspec": {
   "display_name": "Python 3 (ipykernel)",
   "language": "python",
   "name": "python3"
  },
  "language_info": {
   "codemirror_mode": {
    "name": "ipython",
    "version": 3
   },
   "file_extension": ".py",
   "mimetype": "text/x-python",
   "name": "python",
   "nbconvert_exporter": "python",
   "pygments_lexer": "ipython3",
   "version": "3.11.7"
  }
 },
 "nbformat": 4,
 "nbformat_minor": 5
}
